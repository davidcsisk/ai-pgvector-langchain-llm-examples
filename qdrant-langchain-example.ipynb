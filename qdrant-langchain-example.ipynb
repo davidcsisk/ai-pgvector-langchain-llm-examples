{
 "cells": [
  {
   "cell_type": "code",
   "execution_count": 23,
   "metadata": {},
   "outputs": [],
   "source": [
    "# Imports\n",
    "import os,sys\n",
    "import qdrant_client\n",
    "from qdrant_client import QdrantClient\n",
    "from qdrant_client.models import Distance, VectorParams"
   ]
  },
  {
   "cell_type": "code",
   "execution_count": 24,
   "metadata": {},
   "outputs": [],
   "source": [
    "# Get the url and key, and open a connection.\n",
    "# If you've created a free tier Qdrant cluster, you'll get the url and key from your Qdrant.io account\n",
    "qdrant_url = os.environ['QDRANT_URL']\n",
    "qdrant_key = os.environ['QDRANT_KEY']\n",
    "\n",
    "client = QdrantClient(\n",
    "    url=qdrant_url, \n",
    "    api_key=qdrant_key,\n",
    ")\n"
   ]
  },
  {
   "cell_type": "code",
   "execution_count": null,
   "metadata": {},
   "outputs": [],
   "source": [
    "# Create a Qdrant collection\n",
    "client.create_collection(\n",
    "    collection_name=\"test_collection\",\n",
    "    vectors_config=VectorParams(size=4, distance=Distance.DOT),\n",
    ")\n"
   ]
  },
  {
   "cell_type": "code",
   "execution_count": 25,
   "metadata": {},
   "outputs": [
    {
     "name": "stdout",
     "output_type": "stream",
     "text": [
      "operation_id=9 status=<UpdateStatus.COMPLETED: 'completed'>\n"
     ]
    }
   ],
   "source": [
    "# Upsert data into Qdrant\n",
    "from qdrant_client.models import PointStruct\n",
    "\n",
    "operation_info = client.upsert(\n",
    "    collection_name=\"test_collection\",\n",
    "    wait=True,\n",
    "    points=[\n",
    "        PointStruct(id=1, vector=[0.05, 0.61, 0.76, 0.74], payload={\"city\": \"Berlin\", \"country\": \"Germany\"}),\n",
    "        PointStruct(id=2, vector=[0.19, 0.81, 0.75, 0.11], payload={\"city\": \"London\", \"country\": \"England\"}),\n",
    "        PointStruct(id=3, vector=[0.36, 0.55, 0.47, 0.94], payload={\"city\": \"Moscow\", \"country\": \"Russia\"}),\n",
    "        PointStruct(id=4, vector=[0.18, 0.01, 0.85, 0.80], payload={\"city\": \"New York\", \"country\": \"USA\"}),\n",
    "        PointStruct(id=5, vector=[0.24, 0.18, 0.22, 0.44], payload={\"city\": \"Beijing\", \"country\": \"China\"}),\n",
    "        PointStruct(id=6, vector=[0.35, 0.08, 0.11, 0.44], payload={\"city\": \"Mumbai\", \"country\": \"India\"}),\n",
    "    ],\n",
    ")\n",
    "\n",
    "print(operation_info)\n"
   ]
  },
  {
   "cell_type": "code",
   "execution_count": null,
   "metadata": {},
   "outputs": [],
   "source": [
    "# NOTE: This cell won't run...example only\n",
    "# If loading data via LangChain:\n",
    "# from_documents() clears and replaces the data in the vector DB each call...probably not what you want.\n",
    "# Use the add_texts() (for raw text) or add_documents() (for document objects) call instead.\n",
    "# Either of these will upsert data with the same point ID in Qdrant\n",
    "# You can use an integer ID, or generate a UUID by taking the md5hash of the payload content to de-dup\n",
    "\n",
    "metadata = [  # LangChain automatically nests filter payload under metadata.*...see the sample search below\n",
    "    {\"filter1\": filter1} | {\"filter2\": filter2} | {\"last_update\": datetime.now()}\n",
    "]  # Note: See the cell below for explanation of the vertical bar | \n",
    "\n",
    "# Example upsert...new ID's are added with payload, existing ID's get updated payload\n",
    "upserted_ids = vector_db.add_texts(\n",
    "    texts = text_chunks,  # List of text content that is already chunked\n",
    "    metadatas = metadata, # List of dictionaries \n",
    "    ids = id_list # list of int's or UUID's generated from md5hash of each text chunk\n",
    ")\n",
    "\n",
    "print(upserted_ids)"
   ]
  },
  {
   "cell_type": "code",
   "execution_count": 26,
   "metadata": {},
   "outputs": [
    {
     "name": "stdout",
     "output_type": "stream",
     "text": [
      "Example1: {'city': 'New York', 'country': 'USA'}\n"
     ]
    }
   ],
   "source": [
    "# Vertical bar | used above now merges dictionaries into a single dict\n",
    "print(\"Example1:\", {'city': \"New York\"} | {'country': \"USA\"})"
   ]
  },
  {
   "cell_type": "code",
   "execution_count": 27,
   "metadata": {},
   "outputs": [
    {
     "data": {
      "text/plain": [
       "[ScoredPoint(id=4, version=9, score=1.362, payload={'city': 'New York', 'country': 'USA'}, vector=None, shard_key=None),\n",
       " ScoredPoint(id=1, version=9, score=1.273, payload={'city': 'Berlin', 'country': 'Germany'}, vector=None, shard_key=None),\n",
       " ScoredPoint(id=3, version=9, score=1.208, payload={'city': 'Moscow', 'country': 'Russia'}, vector=None, shard_key=None)]"
      ]
     },
     "execution_count": 27,
     "metadata": {},
     "output_type": "execute_result"
    }
   ],
   "source": [
    "# Do a simple vector search with k=3\n",
    "search_result = client.search(\n",
    "    collection_name=\"test_collection\", query_vector=[0.2, 0.1, 0.9, 0.7], limit=3\n",
    ")\n",
    "\n",
    "search_result"
   ]
  },
  {
   "cell_type": "code",
   "execution_count": 28,
   "metadata": {},
   "outputs": [
    {
     "data": {
      "text/plain": [
       "[ScoredPoint(id=4, version=9, score=1.362, payload={'city': 'New York', 'country': 'USA'}, vector=None, shard_key=None)]"
      ]
     },
     "execution_count": 28,
     "metadata": {},
     "output_type": "execute_result"
    }
   ],
   "source": [
    "# Do a search that pre-filters using payload, then does the vector search\n",
    "from qdrant_client.models import Filter, FieldCondition, MatchValue, MatchAny\n",
    "\n",
    "country_value = 'USA'\n",
    "city_list = ['New York', 'Los Angeles', 'London']\n",
    "\n",
    "search_result = client.search(\n",
    "    collection_name=\"test_collection\",\n",
    "    query_vector=[0.2, 0.1, 0.9, 0.7],\n",
    "    query_filter=Filter(\n",
    "        must=[\n",
    "             FieldCondition(key=\"country\", match=MatchValue(value=country_value)),\n",
    "             FieldCondition(key=\"city\", match=MatchAny(any=city_list)) \n",
    "             ]\n",
    "    ),\n",
    "    with_payload=True,\n",
    "    limit=3,\n",
    ")\n",
    "\n",
    "search_result\n"
   ]
  },
  {
   "cell_type": "code",
   "execution_count": null,
   "metadata": {},
   "outputs": [],
   "source": [
    "# NOTE:  This cell won't run, it's just an example\n",
    "# For LangChain...you can use the same filter definition in a retriever\n",
    "# Another more complex search with multiple filter conditions...uses metadata.xxx from Langchain \n",
    "from qdrant_client import models\n",
    "\n",
    "search_filter = models.Filter(\n",
    "    must=[\n",
    "        models.FieldCondition(\n",
    "            key=\"metadata.caseID\", match=models.MatchValue(value=123)\n",
    "        ),\n",
    "        models.FieldCondition(\n",
    "            key=\"metadata.doclist\", match=models.MatchAny(any=[\"abc\", \"def\", \"ghi\"])\n",
    "        ),\n",
    "    ]\n",
    ")\n",
    "\n",
    "retriever = vector_db.as_retriever(search_kwargs={\"filter\": search_filter})\n",
    "chain = retrievalQAWithSourcesChain.from_chain_type(llm, retriever=retriever)\n",
    "question = 'Some question here'\n",
    "result = chain.invoke({\"question\": question}, callbacks=[StreamingStdOutCallbackHandler()])\n",
    "print(result)\n"
   ]
  }
 ],
 "metadata": {
  "kernelspec": {
   "display_name": "base",
   "language": "python",
   "name": "python3"
  },
  "language_info": {
   "codemirror_mode": {
    "name": "ipython",
    "version": 3
   },
   "file_extension": ".py",
   "mimetype": "text/x-python",
   "name": "python",
   "nbconvert_exporter": "python",
   "pygments_lexer": "ipython3",
   "version": "3.11.7"
  }
 },
 "nbformat": 4,
 "nbformat_minor": 2
}
